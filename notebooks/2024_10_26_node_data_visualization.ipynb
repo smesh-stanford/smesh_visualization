{
 "cells": [
  {
   "cell_type": "markdown",
   "metadata": {
    "id": "zEn-EPlAbb7I"
   },
   "source": [
    "## Data Visualization of SMesh nodes\n",
    "\n",
    "Visualize data from SMesh Build v1.0 nodes, data gathered on 10/20/24 in Lab64\n",
    "\n",
    "Authors: Lisa Fung\n",
    "\n",
    "Last Updated: 10/26/2024"
   ]
  },
  {
   "cell_type": "code",
   "execution_count": 2,
   "metadata": {
    "executionInfo": {
     "elapsed": 7838,
     "status": "ok",
     "timestamp": 1729962520761,
     "user": {
      "displayName": "Lisa Fung",
      "userId": "07016516338244831652"
     },
     "user_tz": 420
    },
    "id": "9X_RJIz4bWwR"
   },
   "outputs": [],
   "source": [
    "import pandas as pd\n",
    "import matplotlib.pyplot as plt\n",
    "import seaborn as sns"
   ]
  },
  {
   "cell_type": "code",
   "execution_count": 3,
   "metadata": {
    "colab": {
     "base_uri": "https://localhost:8080/"
    },
    "executionInfo": {
     "elapsed": 22395,
     "status": "ok",
     "timestamp": 1729962543152,
     "user": {
      "displayName": "Lisa Fung",
      "userId": "07016516338244831652"
     },
     "user_tz": 420
    },
    "id": "MsHWcSWobsjt",
    "outputId": "95114c3d-4f25-46c7-dd1f-a728633155a4"
   },
   "outputs": [
    {
     "name": "stdout",
     "output_type": "stream",
     "text": [
      "Mounted at /content/drive\n"
     ]
    }
   ],
   "source": [
    "# Mount Google Drive to import data\n",
    "from google.colab import drive\n",
    "drive.mount('/content/drive')\n"
   ]
  },
  {
   "cell_type": "code",
   "execution_count": 4,
   "metadata": {
    "executionInfo": {
     "elapsed": 2894,
     "status": "ok",
     "timestamp": 1729962546040,
     "user": {
      "displayName": "Lisa Fung",
      "userId": "07016516338244831652"
     },
     "user_tz": 420
    },
    "id": "AQh769bfcCui"
   },
   "outputs": [],
   "source": [
    "folderpath = '/content/drive/Shared drives/SMesh: Sustainability Radio Sensor Networks/smesh-software/Data Visualization/4x_v1.0_nodes_1x_logger/'\n",
    "data = {}\n",
    "logger = \"62e4\"\n",
    "sensor_types = [\"device_metrics\", \"bme688\", \"ina260\", \"pmsa003i\"]\n",
    "for sensor in sensor_types:\n",
    "  data[sensor] = pd.read_csv(folderpath + logger + \"_\" + sensor + \".csv\")"
   ]
  },
  {
   "cell_type": "markdown",
   "metadata": {
    "id": "eh8SseePy0Du"
   },
   "source": [
    "### INA 260 Visualization"
   ]
  },
  {
   "cell_type": "code",
   "execution_count": 5,
   "metadata": {
    "executionInfo": {
     "elapsed": 16,
     "status": "ok",
     "timestamp": 1729962546042,
     "user": {
      "displayName": "Lisa Fung",
      "userId": "07016516338244831652"
     },
     "user_tz": 420
    },
    "id": "fs630qwFceQm"
   },
   "outputs": [],
   "source": [
    "# Add column names for INA260 data\n",
    "row0 = data['ina260'].columns.tolist()\n",
    "data['ina260'].columns = ['Time', 'Node', 'Voltage', 'Current']\n",
    "data['ina260'] = pd.concat([pd.DataFrame([pd.Series(row0, index=data['ina260'].columns)]), data['ina260']], ignore_index=True)"
   ]
  },
  {
   "cell_type": "code",
   "execution_count": 6,
   "metadata": {
    "executionInfo": {
     "elapsed": 15,
     "status": "ok",
     "timestamp": 1729962546042,
     "user": {
      "displayName": "Lisa Fung",
      "userId": "07016516338244831652"
     },
     "user_tz": 420
    },
    "id": "gPjBCJi3eMlR"
   },
   "outputs": [],
   "source": [
    "data['ina260']['Time'] = pd.to_datetime(data['ina260']['Time'])"
   ]
  },
  {
   "cell_type": "code",
   "execution_count": null,
   "metadata": {
    "colab": {
     "base_uri": "https://localhost:8080/",
     "height": 313
    },
    "executionInfo": {
     "elapsed": 16,
     "status": "ok",
     "timestamp": 1729962546043,
     "user": {
      "displayName": "Lisa Fung",
      "userId": "07016516338244831652"
     },
     "user_tz": 420
    },
    "id": "xwizmeC4c79n",
    "outputId": "8ffad798-da46-4ea9-c207-132672e38489"
   },
   "outputs": [],
   "source": [
    "data['ina260'].head()"
   ]
  },
  {
   "cell_type": "code",
   "execution_count": null,
   "metadata": {
    "colab": {
     "base_uri": "https://localhost:8080/",
     "height": 54
    },
    "executionInfo": {
     "elapsed": 1557,
     "status": "ok",
     "timestamp": 1729962547586,
     "user": {
      "displayName": "Lisa Fung",
      "userId": "07016516338244831652"
     },
     "user_tz": 420
    },
    "id": "CRVN-a2Zeu1W",
    "outputId": "0ced6235-e8c9-4038-d12f-a6e6d6f27511"
   },
   "outputs": [],
   "source": [
    "# Plot INA260 values over time for 10/20/24\n",
    "\n",
    "# Filter for 10/20/24 data\n",
    "data_ina260 = data['ina260'][data['ina260']['Time'].dt.date == pd.to_datetime('2024-10-20').date()]\n",
    "\n",
    "# Plot current and voltage over time for each node\n",
    "fig, axs = plt.subplots(2, 1, figsize=(14, 10), sharex=True)\n",
    "\n",
    "plt.title(\"Current and Voltage Over Time of 4x v1.0 Nodes on 2024-10-20\")\n",
    "\n",
    "# Plot current over time\n",
    "sns.lineplot(data=data_ina260, x='Time', y='Current', hue='Node', ax=axs[0])\n",
    "axs[0].set_title('Current over Time per Node')\n",
    "axs[0].set_ylabel('Current (A)')\n",
    "\n",
    "# Plot voltage over time\n",
    "sns.lineplot(data=data_ina260, x='Time', y='Voltage', hue='Node', ax=axs[1])\n",
    "axs[1].set_title('Voltage over Time per Node')\n",
    "axs[1].set_ylabel('Voltage (V)')\n",
    "axs[1].set_xlabel('Time')\n",
    "\n",
    "plt.tight_layout()\n",
    "plt.show()\n"
   ]
  },
  {
   "cell_type": "markdown",
   "metadata": {
    "id": "jAMk7ZU4y4nG"
   },
   "source": [
    "### Temperature Visualization"
   ]
  }
 ],
 "metadata": {
  "colab": {
   "authorship_tag": "ABX9TyN1tSnxhNY7VnDk/5FAgsDp",
   "provenance": []
  },
  "kernelspec": {
   "display_name": "Python 3",
   "name": "python3"
  },
  "language_info": {
   "name": "python"
  }
 },
 "nbformat": 4,
 "nbformat_minor": 0
}
