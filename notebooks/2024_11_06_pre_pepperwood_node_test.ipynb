{
 "cells": [
  {
   "cell_type": "markdown",
   "metadata": {
    "id": "irCz6UgI7_6a"
   },
   "source": [
    "## Check which nodes were heard during the test\n",
    "\n",
    "Visualize data from SMesh Build v1.0 nodes, data gathered on 11/06/24 in Lab64\n",
    "\n",
    "Authors: Daniel Neamati and Lisa Fung\n",
    "\n",
    "Last Updated: 11/06/2024"
   ]
  },
  {
   "cell_type": "code",
   "execution_count": 2,
   "metadata": {
    "colab": {
     "base_uri": "https://localhost:8080/"
    },
    "executionInfo": {
     "elapsed": 21864,
     "status": "ok",
     "timestamp": 1730939816187,
     "user": {
      "displayName": "Daniel Asad Neamati",
      "userId": "04766155447238554404"
     },
     "user_tz": 480
    },
    "id": "HoI90qVe765n",
    "outputId": "dc1eedf2-e37a-47ad-edc2-7ef3db713f39"
   },
   "outputs": [
    {
     "name": "stdout",
     "output_type": "stream",
     "text": [
      "Mounted at /content/drive\n"
     ]
    }
   ],
   "source": [
    "# Mount Google Drive to import data\n",
    "# Do this first since it will prompt authentication\n",
    "from google.colab import drive\n",
    "drive.mount('/content/drive')"
   ]
  },
  {
   "cell_type": "code",
   "execution_count": 3,
   "metadata": {
    "executionInfo": {
     "elapsed": 613,
     "status": "ok",
     "timestamp": 1730939826288,
     "user": {
      "displayName": "Daniel Asad Neamati",
      "userId": "04766155447238554404"
     },
     "user_tz": 480
    },
    "id": "P1N4Vnzs7yo6"
   },
   "outputs": [],
   "source": [
    "import pandas as pd\n",
    "import matplotlib.pyplot as plt\n",
    "import numpy as np"
   ]
  },
  {
   "cell_type": "code",
   "execution_count": 6,
   "metadata": {
    "colab": {
     "base_uri": "https://localhost:8080/"
    },
    "executionInfo": {
     "elapsed": 264,
     "status": "ok",
     "timestamp": 1730939881151,
     "user": {
      "displayName": "Daniel Asad Neamati",
      "userId": "04766155447238554404"
     },
     "user_tz": 480
    },
    "id": "qs7xKW9G8gPT",
    "outputId": "9aa194ed-c55b-4c92-e0ed-701e86edde9d"
   },
   "outputs": [
    {
     "name": "stdout",
     "output_type": "stream",
     "text": [
      "device_metrics started\n",
      "device_metrics completed\n",
      "bme688 started\n",
      "bme688 completed\n",
      "ina260 started\n",
      "ina260 completed\n",
      "pmsa003i started\n",
      "pmsa003i completed\n"
     ]
    }
   ],
   "source": [
    "folderpath = '/content/drive/Shared drives/SMesh: Sustainability Radio Sensor Networks/smesh-software/Data Visualization/pre_pepperwood_mesh_test_2024_11_06/'\n",
    "data = {}\n",
    "logger = \"0ff4\"\n",
    "# sensor_types = [\"device_metrics\", \"bme688\", \"ina260\", \"pmsa003i\"]\n",
    "\n",
    "base_vars = ['datetime', 'from_node']\n",
    "net_vars = ['rxSnr', 'hopLimit', 'rxRssi', 'hopStart']\n",
    "\n",
    "sensor_headers = {\n",
    "    \"device_metrics\": ['batteryLevel', 'voltage', 'channelUtilization', 'airUtilTx'],\n",
    "    \"bme688\": ['temperature', 'relativeHumidity', 'barometricPressure', 'gasResistance', 'iaq'],\n",
    "    \"ina260\": ['ch3Voltage', 'ch3Current'],\n",
    "    \"pmsa003i\": ['pm10Standard', 'pm25Standard', 'pm100Standard', 'pm10Environmental', 'pm25Environmental', 'pm100Environmental']\n",
    "}\n",
    "sensor_types = sensor_headers.keys()\n",
    "\n",
    "for sensor in sensor_types:\n",
    "    sensor_headers[sensor] = base_vars + sensor_headers[sensor] + net_vars\n",
    "\n",
    "for sensor in sensor_types:\n",
    "    print(sensor + \" started\")\n",
    "    data[sensor] = pd.read_csv(folderpath + logger + \"_\" + sensor + \".csv\",\n",
    "                               header=None, parse_dates=[0])\n",
    "    data[sensor].columns = sensor_headers[sensor]\n",
    "    data[sensor]['from_short_name'] = data[sensor]['from_node'].str[-4:]\n",
    "\n",
    "    # print(data[sensor].dtypes)\n",
    "    # print(data[sensor].head())\n",
    "\n",
    "    print(sensor + \" completed\")"
   ]
  },
  {
   "cell_type": "code",
   "execution_count": 7,
   "metadata": {
    "colab": {
     "base_uri": "https://localhost:8080/"
    },
    "executionInfo": {
     "elapsed": 540,
     "status": "ok",
     "timestamp": 1730940245595,
     "user": {
      "displayName": "Daniel Asad Neamati",
      "userId": "04766155447238554404"
     },
     "user_tz": 480
    },
    "id": "DTD6lWKpBuV2",
    "outputId": "cc38346a-3a1c-4ff3-f2ca-59aa5bb1a672"
   },
   "outputs": [
    {
     "name": "stdout",
     "output_type": "stream",
     "text": [
      "-----\n",
      "device_metrics started\n",
      "sorted: ['0b38' '0ff4' '4004' 'ad0c' 'afcc' 'bf20' 'cb14' 'd35c' 'd7c0' 'f864'\n",
      " 'fbec'] \n",
      "\n",
      "from_short_name\n",
      "0ff4    71\n",
      "0b38    12\n",
      "ad0c    12\n",
      "afcc    12\n",
      "d35c    12\n",
      "cb14    12\n",
      "bf20     4\n",
      "fbec     1\n",
      "4004     1\n",
      "f864     1\n",
      "d7c0     1\n",
      "Name: count, dtype: int64\n",
      "device_metrics completed\n",
      "-----\n",
      "\n",
      "-----\n",
      "bme688 started\n",
      "sorted: ['0b38' '18e8' 'ad0c' 'afcc' 'bf20' 'c2b0' 'cb14' 'd35c' 'fbec' 'fcb4'] \n",
      "\n",
      "from_short_name\n",
      "fbec    82\n",
      "d35c    73\n",
      "afcc    72\n",
      "cb14    71\n",
      "0b38    71\n",
      "ad0c    70\n",
      "18e8    48\n",
      "fcb4    46\n",
      "bf20    37\n",
      "c2b0     2\n",
      "Name: count, dtype: int64\n",
      "bme688 completed\n",
      "-----\n",
      "\n",
      "-----\n",
      "ina260 started\n",
      "sorted: ['0b38' '18e8' 'ad0c' 'afcc' 'bf20' 'cb14' 'd35c'] \n",
      "\n",
      "from_short_name\n",
      "18e8    72\n",
      "afcc    15\n",
      "ad0c    15\n",
      "0b38    14\n",
      "d35c    14\n",
      "cb14    14\n",
      "bf20    14\n",
      "Name: count, dtype: int64\n",
      "ina260 completed\n",
      "-----\n",
      "\n",
      "-----\n",
      "pmsa003i started\n",
      "sorted: ['0b38' 'ad0c' 'afcc' 'bf20' 'c2b0' 'cb14' 'd35c' 'fbec' 'fcb4'] \n",
      "\n",
      "from_short_name\n",
      "0b38    72\n",
      "d35c    72\n",
      "afcc    71\n",
      "cb14    71\n",
      "ad0c    48\n",
      "fbec    27\n",
      "bf20     1\n",
      "fcb4     1\n",
      "c2b0     1\n",
      "Name: count, dtype: int64\n",
      "pmsa003i completed\n",
      "-----\n",
      "\n"
     ]
    }
   ],
   "source": [
    "col_id = 'from_short_name'\n",
    "\n",
    "for sensor in sensor_types:\n",
    "    print(\"-----\\n\" + sensor + \" started\")\n",
    "    unique_ids = data[sensor][col_id].unique()\n",
    "    print(\"sorted:\", np.sort(unique_ids), \"\\n\")\n",
    "\n",
    "    # Sort false will mean it sorts by dataframe column rather than frequency\n",
    "    unique_stats = data[sensor][col_id].value_counts(sort=True)\n",
    "    print(unique_stats)\n",
    "\n",
    "    print(sensor + \" completed\\n-----\\n\")"
   ]
  },
  {
   "cell_type": "code",
   "execution_count": null,
   "metadata": {
    "colab": {
     "base_uri": "https://localhost:8080/",
     "height": 488
    },
    "executionInfo": {
     "elapsed": 275,
     "status": "ok",
     "timestamp": 1730940301886,
     "user": {
      "displayName": "Daniel Asad Neamati",
      "userId": "04766155447238554404"
     },
     "user_tz": 480
    },
    "id": "es6Rk656IRpA",
    "outputId": "61da6133-da71-4792-c727-e850e9b65a21"
   },
   "outputs": [],
   "source": [
    "# data[\"ina260\"][data[\"ina260\"][data[\"ina260\"].columns[1]] == \"0x433abf20\"]\n",
    "data[\"ina260\"][data[\"ina260\"][\"from_short_name\"] == \"bf20\"]"
   ]
  },
  {
   "cell_type": "code",
   "execution_count": null,
   "metadata": {
    "colab": {
     "base_uri": "https://localhost:8080/",
     "height": 388
    },
    "executionInfo": {
     "elapsed": 1386,
     "status": "ok",
     "timestamp": 1730940308933,
     "user": {
      "displayName": "Daniel Asad Neamati",
      "userId": "04766155447238554404"
     },
     "user_tz": 480
    },
    "id": "06d4PGKVQqgE",
    "outputId": "202b090e-b86c-4e5f-926a-4a999fe64ccf"
   },
   "outputs": [],
   "source": [
    "fig, axes = plt.subplots(nrows=1, ncols=2,\n",
    "                         figsize=(12, 4))\n",
    "\n",
    "# 'channelUtilization', 'airUtilTx'\n",
    "data[\"device_metrics\"]['channelUtilization'].hist(ax=axes[0])\n",
    "axes[0].set(xlabel=\"Channel Utilization [%]\", ylabel=\"Frequency\")\n",
    "\n",
    "data[\"device_metrics\"]['airUtilTx'].hist(ax=axes[1])\n",
    "axes[1].set(xlabel=\"Air Utilization Tx [%]\", ylabel=\"Frequency\");"
   ]
  },
  {
   "cell_type": "code",
   "execution_count": null,
   "metadata": {
    "colab": {
     "base_uri": "https://localhost:8080/",
     "height": 427
    },
    "executionInfo": {
     "elapsed": 1097,
     "status": "ok",
     "timestamp": 1730948491102,
     "user": {
      "displayName": "Daniel Asad Neamati",
      "userId": "04766155447238554404"
     },
     "user_tz": 480
    },
    "id": "zApXnbYukJLy",
    "outputId": "40d5e1f1-4241-4f05-ad0f-f2e3ee1e0e2a"
   },
   "outputs": [],
   "source": [
    "fig, axes = plt.subplots(nrows=1, ncols=2,\n",
    "                         figsize=(12, 4))\n",
    "\n",
    "data[\"device_metrics\"].plot.scatter(x='datetime', y='channelUtilization', ax=axes[0], rot=45)\n",
    "data[\"device_metrics\"].plot.scatter(x='datetime', y='airUtilTx', ax=axes[1], rot=45);"
   ]
  },
  {
   "cell_type": "code",
   "execution_count": null,
   "metadata": {
    "colab": {
     "base_uri": "https://localhost:8080/",
     "height": 427
    },
    "executionInfo": {
     "elapsed": 1928,
     "status": "ok",
     "timestamp": 1730949461064,
     "user": {
      "displayName": "Daniel Asad Neamati",
      "userId": "04766155447238554404"
     },
     "user_tz": 480
    },
    "id": "lzvH1zhnmKlF",
    "outputId": "ef8bcb13-4bbc-40a9-8a68-5de93974a6f0"
   },
   "outputs": [],
   "source": [
    "col_id = 'from_short_name'\n",
    "\n",
    "df_from_node_sorted = data[\"device_metrics\"].sort_values(by=col_id)\n",
    "unique_ids = df_from_node_sorted[col_id].unique()\n",
    "\n",
    "fig, axes = plt.subplots(nrows=1, ncols=2,\n",
    "                         figsize=(12, 4))\n",
    "\n",
    "for n, grp in df_from_node_sorted.groupby(col_id):\n",
    "    axes[0].scatter(x = 'datetime', y = 'channelUtilization', data=grp, label=n)\n",
    "    axes[1].scatter(x = 'datetime', y = 'airUtilTx', data=grp, label=n)\n",
    "\n",
    "for ax in axes:\n",
    "    ax.tick_params(axis='x', labelrotation=45)\n",
    "    ax.set_xlabel('datetime')\n",
    "\n",
    "axes[0].set_ylabel('channelUtilization')\n",
    "axes[1].set_ylabel('airUtilTx')\n",
    "\n",
    "plt.legend(bbox_to_anchor=(1.05, 1), loc='upper left')\n",
    "plt.show()"
   ]
  },
  {
   "cell_type": "code",
   "execution_count": null,
   "metadata": {
    "colab": {
     "base_uri": "https://localhost:8080/",
     "height": 429
    },
    "executionInfo": {
     "elapsed": 254,
     "status": "ok",
     "timestamp": 1730940311227,
     "user": {
      "displayName": "Daniel Asad Neamati",
      "userId": "04766155447238554404"
     },
     "user_tz": 480
    },
    "id": "N_CyW3MDCGd6",
    "outputId": "7e5d06cc-5b08-4ae1-e133-54e545358a6b"
   },
   "outputs": [],
   "source": [
    "data[\"device_metrics\"].dtypes"
   ]
  },
  {
   "cell_type": "code",
   "execution_count": null,
   "metadata": {
    "colab": {
     "base_uri": "https://localhost:8080/",
     "height": 1000
    },
    "executionInfo": {
     "elapsed": 1581,
     "status": "ok",
     "timestamp": 1730940335659,
     "user": {
      "displayName": "Daniel Asad Neamati",
      "userId": "04766155447238554404"
     },
     "user_tz": 480
    },
    "id": "z5wXxhrRoNWm",
    "outputId": "4a657765-51e7-43dd-f43e-c38dd9df57b0"
   },
   "outputs": [],
   "source": [
    "for sensor in sensor_types:\n",
    "    df_from_node_sorted = data[sensor].sort_values(by='from_short_name')\n",
    "    ax_heard = df_from_node_sorted.plot.scatter(x='datetime', y='from_short_name', rot=45)\n",
    "    ax_heard.set_title(sensor)\n",
    "    plt.show()"
   ]
  }
 ],
 "metadata": {
  "colab": {
   "authorship_tag": "ABX9TyN8+BKZPgfZfH/c45KtGRmP",
   "provenance": []
  },
  "kernelspec": {
   "display_name": "Python 3",
   "name": "python3"
  },
  "language_info": {
   "name": "python"
  }
 },
 "nbformat": 4,
 "nbformat_minor": 0
}
